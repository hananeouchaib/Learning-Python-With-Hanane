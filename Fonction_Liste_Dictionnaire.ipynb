{
  "cells": [
    {
      "cell_type": "markdown",
      "metadata": {
        "id": "view-in-github",
        "colab_type": "text"
      },
      "source": [
        "<a href=\"https://colab.research.google.com/github/hananeouchaib/Learning-Python-With-Hanane/blob/main/Fonction_Liste_Dictionnaire.ipynb\" target=\"_parent\"><img src=\"https://colab.research.google.com/assets/colab-badge.svg\" alt=\"Open In Colab\"/></a>"
      ]
    },
    {
      "cell_type": "code",
      "source": [
        "def Somme(x,y) : \n",
        "    return x+y"
      ],
      "metadata": {
        "id": "3WrrL-Yl5cbs"
      },
      "execution_count": 1,
      "outputs": []
    },
    {
      "cell_type": "code",
      "source": [
        "Somme(10,25)"
      ],
      "metadata": {
        "id": "2A8HN8fJ5ekC",
        "outputId": "23989088-3515-491e-c2d8-a14da41519a7",
        "colab": {
          "base_uri": "https://localhost:8080/"
        }
      },
      "execution_count": 2,
      "outputs": [
        {
          "output_type": "execute_result",
          "data": {
            "text/plain": [
              "35"
            ]
          },
          "metadata": {},
          "execution_count": 2
        }
      ]
    },
    {
      "cell_type": "code",
      "source": [
        "# PARFAIT\n",
        "def Listvalue(L,x) : \n",
        "    if x in L : \n",
        "        print(\"%d existe bien dans votre liste.\" %x)\n",
        "    else : \n",
        "        print(\" %d n'existe pas dans votre liste.\" %x)"
      ],
      "metadata": {
        "id": "V1h7Mm819ylu"
      },
      "execution_count": 3,
      "outputs": []
    },
    {
      "cell_type": "code",
      "source": [
        "# BEAUCOUP DE CODE\n",
        "L = []\n",
        "for i in range(1,5) : \n",
        "    x = int(input(\"entrer un élément de la liste : \"))\n",
        "    L.append(x)\n",
        "print(L)\n",
        "x=int(input(\"proposer un nombre dont vous voulez vérifier l'existence : \"))\n",
        "Listvalue(L,x)"
      ],
      "metadata": {
        "id": "Q2Aip1CN9ynH",
        "outputId": "85a48245-8e22-49ca-9b98-c9fcda172cf8",
        "colab": {
          "base_uri": "https://localhost:8080/"
        }
      },
      "execution_count": 6,
      "outputs": [
        {
          "output_type": "stream",
          "name": "stdout",
          "text": [
            "entrer un élément de la liste : 1\n",
            "entrer un élément de la liste : 2\n",
            "entrer un élément de la liste : 3\n",
            "entrer un élément de la liste : 4\n",
            "[1, 2, 3, 4]\n",
            "proposer un nombre dont vous voulez vérifier l'existence : 5\n",
            " 5 n'existe pas dans votre liste.\n"
          ]
        }
      ]
    },
    {
      "cell_type": "code",
      "source": [
        "Listvalue([1,2,3,4],5)\n",
        "Listvalue([1,2,3,4],4)"
      ],
      "metadata": {
        "id": "3LCZiyh4-TBY",
        "outputId": "23b46f5f-3bc6-47f6-e7a3-4bb0d99990a8",
        "colab": {
          "base_uri": "https://localhost:8080/"
        }
      },
      "execution_count": 8,
      "outputs": [
        {
          "output_type": "stream",
          "name": "stdout",
          "text": [
            " 5 n'existe pas dans votre liste.\n",
            "4 existe bien dans votre liste.\n"
          ]
        }
      ]
    },
    {
      "cell_type": "code",
      "source": [
        "def Occurence(L) :\n",
        "  dic = {}\n",
        "  les dictionnaires\n",
        "\n",
        "     "
      ],
      "metadata": {
        "id": "bhV22WcZ-gI3"
      },
      "execution_count": 12,
      "outputs": []
    },
    {
      "cell_type": "code",
      "source": [
        "Occurence([1,1,3,3,4,4,4,10])\n",
        "L = [1,3,3,4,4,4,10]\n",
        "L.index(10)"
      ],
      "metadata": {
        "id": "kQOj3o7sAl4v",
        "outputId": "4a3eec35-9de7-4e29-9eb6-8606692eb377",
        "colab": {
          "base_uri": "https://localhost:8080/"
        }
      },
      "execution_count": 16,
      "outputs": [
        {
          "output_type": "stream",
          "name": "stdout",
          "text": [
            "1 2\n",
            "1 2\n",
            "3 2\n",
            "3 2\n",
            "4 3\n",
            "4 3\n",
            "4 3\n",
            "10 1\n"
          ]
        },
        {
          "output_type": "execute_result",
          "data": {
            "text/plain": [
              "6"
            ]
          },
          "metadata": {},
          "execution_count": 16
        }
      ]
    },
    {
      "cell_type": "code",
      "source": [],
      "metadata": {
        "id": "w7bFyEfNJkS1"
      },
      "execution_count": null,
      "outputs": []
    },
    {
      "cell_type": "markdown",
      "source": [
        "# **Programme chaine**"
      ],
      "metadata": {
        "id": "RRzgdiK8JlDm"
      }
    },
    {
      "cell_type": "code",
      "source": [
        "\n",
        "def O(S) :\n",
        "  Occurence = {} \n",
        "  for i in S : \n",
        "    if i not in Occurence : \n",
        "      Occurence[i]=1\n",
        "    else :\n",
        "      Occurence[i]+=1\n",
        "  return Occurence\n",
        "S=\"moataazhanaane\"\n",
        "print(O(S)) \n"
      ],
      "metadata": {
        "id": "cwDnhgBlJqd-",
        "outputId": "1e09b469-f368-4c7f-fee9-543ac077fe2f",
        "colab": {
          "base_uri": "https://localhost:8080/"
        }
      },
      "execution_count": 20,
      "outputs": [
        {
          "output_type": "stream",
          "name": "stdout",
          "text": [
            "{'m': 1, 'o': 1, 'a': 6, 't': 1, 'z': 1, 'h': 1, 'n': 2, 'e': 1}\n"
          ]
        }
      ]
    },
    {
      "cell_type": "code",
      "source": [
        "def O(L) :\n",
        "  Occurence = {} \n",
        "  for i in L : \n",
        "    if i%2==0 : \n",
        "      Occurence[i]=\"pair\"\n",
        "    else :\n",
        "      Occurence[i]=\"impair\"\n",
        "  return Occurence\n",
        "L=[1,2,3,4]\n",
        "print(O(L)) "
      ],
      "metadata": {
        "id": "dfVRISs-PTC2",
        "outputId": "c5533f07-f61d-428e-ae28-f87fc4a1599a",
        "colab": {
          "base_uri": "https://localhost:8080/"
        }
      },
      "execution_count": 21,
      "outputs": [
        {
          "output_type": "stream",
          "name": "stdout",
          "text": [
            "{1: 'impair', 2: 'pair', 3: 'impair', 4: 'pair'}\n"
          ]
        }
      ]
    },
    {
      "cell_type": "code",
      "source": [
        "def age(D) :\n",
        "  ma = {}\n",
        "  mi = {}\n",
        "  for key,value in D.items() :\n",
        "    if value<18 : \n",
        "      mi[key] = value\n",
        "    else : \n",
        "      ma[key] = value\n",
        "\n",
        "  return mi, ma \n",
        "\n",
        "d={\"hanane\" : 23,\"moataz\" : 22,\"karima\" : 12}\n",
        "age(d)"
      ],
      "metadata": {
        "id": "PL2NoOvyQQEe",
        "outputId": "d15fc363-1ea8-4094-a7df-c7354d07b477",
        "colab": {
          "base_uri": "https://localhost:8080/"
        }
      },
      "execution_count": 24,
      "outputs": [
        {
          "output_type": "execute_result",
          "data": {
            "text/plain": [
              "({'karima': 12}, {'hanane': 23, 'moataz': 22})"
            ]
          },
          "metadata": {},
          "execution_count": 24
        }
      ]
    },
    {
      "cell_type": "code",
      "source": [
        "s = input(\"saisir une phrase : \")\n",
        "print(s)\n",
        "L = s.split()\n",
        "print(L)\n",
        "D={}\n",
        "for i in L : \n",
        "  D[i] = len(i)\n",
        "print(D)"
      ],
      "metadata": {
        "id": "8s5IeZADR9Zd",
        "outputId": "70ec5098-c538-4118-f568-de85a0e1905b",
        "colab": {
          "base_uri": "https://localhost:8080/"
        }
      },
      "execution_count": 29,
      "outputs": [
        {
          "output_type": "stream",
          "name": "stdout",
          "text": [
            "saisir une phrase : hanane est belle\n",
            "hanane est belle\n",
            "['hanane', 'est', 'belle']\n",
            "{'hanane': 6, 'est': 3, 'belle': 5}\n"
          ]
        }
      ]
    },
    {
      "cell_type": "code",
      "source": [
        "L=[\"name\",\"email\",\"phone\"]\n",
        "M=[\"hanane\",\"hjkdfhqs@.jdgqsjh\",\"0675645546\"]\n",
        "D={}\n",
        "for i in range(0,len(L)):\n",
        "    D[L[i]]= M[i]\n",
        "    \n",
        "    \n",
        "print(D)"
      ],
      "metadata": {
        "id": "AbVZFIKyTsWG",
        "outputId": "af61b136-1c26-46db-af79-6d6a38fa080d",
        "colab": {
          "base_uri": "https://localhost:8080/"
        }
      },
      "execution_count": 1,
      "outputs": [
        {
          "output_type": "stream",
          "name": "stdout",
          "text": [
            "{'name': 'hanane', 'email': 'hjkdfhqs@.jdgqsjh', 'phone': '0675645546'}\n"
          ]
        }
      ]
    },
    {
      "cell_type": "code",
      "source": [
        "D={\"hp\":11,\"acer\":7,\"lenovo\":17,\"dell\":23}\n",
        "M={\"iphone\":11,\"samsung\":7,\"other\":17}\n",
        "def Concat(A,B) : \n",
        "  B.update(A)\n",
        "  return B\n",
        "\n",
        "Concat(D,M)\n"
      ],
      "metadata": {
        "id": "LUDkkied85dK",
        "outputId": "daa6f578-2885-48d2-b97c-81d8b5e39345",
        "colab": {
          "base_uri": "https://localhost:8080/"
        }
      },
      "execution_count": 7,
      "outputs": [
        {
          "output_type": "execute_result",
          "data": {
            "text/plain": [
              "{'iphone': 11,\n",
              " 'samsung': 7,\n",
              " 'other': 17,\n",
              " 'hp': 11,\n",
              " 'acer': 7,\n",
              " 'lenovo': 17,\n",
              " 'dell': 23}"
            ]
          },
          "metadata": {},
          "execution_count": 7
        }
      ]
    },
    {
      "cell_type": "code",
      "source": [],
      "metadata": {
        "id": "uC6WPert_X4M"
      },
      "execution_count": null,
      "outputs": []
    }
  ],
  "metadata": {
    "colab": {
      "name": "Bienvenue dans Colaboratory",
      "provenance": [],
      "include_colab_link": true
    },
    "kernelspec": {
      "display_name": "Python 3",
      "name": "python3"
    }
  },
  "nbformat": 4,
  "nbformat_minor": 0
}