{
  "cells": [
    {
      "cell_type": "markdown",
      "source": [
        "# **Learn Pyhton**"
      ],
      "metadata": {
        "id": "F_a1bIDA2o4L"
      }
    },
    {
      "cell_type": "code",
      "source": [
        "print('hello world')\n",
        "print('hello')"
      ],
      "metadata": {
        "colab": {
          "base_uri": "https://localhost:8080/"
        },
        "id": "DtK1iMZs2tlr",
        "outputId": "8a42f9f5-d05b-404f-b2c8-7febfc3113fb"
      },
      "execution_count": 4,
      "outputs": [
        {
          "output_type": "stream",
          "name": "stdout",
          "text": [
            "hello world\n",
            "hello\n"
          ]
        }
      ]
    },
    {
      "cell_type": "code",
      "source": [
        "c = 10\n",
        "print(c)\n",
        "a = float(c)\n",
        "print(a)\n",
        "a = 'hello'\n",
        "b = 'world'\n",
        "print(a+' '+b)\n",
        "a,b = 1,2\n",
        "print(a,b)\n",
        "\n"
      ],
      "metadata": {
        "colab": {
          "base_uri": "https://localhost:8080/"
        },
        "id": "2CPC0wHp22Rn",
        "outputId": "36cf2426-8897-47f8-9056-29b49345a8e6"
      },
      "execution_count": 13,
      "outputs": [
        {
          "output_type": "stream",
          "name": "stdout",
          "text": [
            "10\n",
            "10.0\n",
            "hello world\n",
            "1 2\n"
          ]
        }
      ]
    },
    {
      "cell_type": "code",
      "source": [
        "L = [1,2,3,4]\n",
        "\n",
        "\n",
        "for i in range(len(L)):\n",
        "      if L[i]==4 : \n",
        "        print(\"yes\")\n",
        "\n",
        "for i in L:\n",
        "  if i==4 : \n",
        "        print(\"yes\")\n"
      ],
      "metadata": {
        "colab": {
          "base_uri": "https://localhost:8080/"
        },
        "id": "FDa59LCf3Yip",
        "outputId": "3941fc55-97a7-46fb-bda5-b70fee5333e8"
      },
      "execution_count": 31,
      "outputs": [
        {
          "output_type": "stream",
          "name": "stdout",
          "text": [
            "yes\n",
            "yes\n"
          ]
        }
      ]
    },
    {
      "cell_type": "code",
      "source": [
        "M = [10,18,20,30]\n",
        "print(M+L)\n",
        "name = 'MOATAZ'\n",
        "age = 23\n",
        "print(\"age de \", name, \"est:\", age)\n",
        "chaine = 'hanaaaaane'\n",
        "print(len(chaine))\n",
        "print(chaine.index('e'))\n",
        "print(chaine.count('a'))\n",
        "print(chaine[0:4])\n",
        "S = chaine.upper()\n",
        "print(S)\n",
        "S = chaine.lower()\n",
        "print(S)\n",
        "print(S.split('a'))\n",
        "B = S.split('a')\n",
        "k=''\n",
        "for i in B : \n",
        " if i != '':\n",
        "   k = k + i\n",
        "print(k)"
      ],
      "metadata": {
        "colab": {
          "base_uri": "https://localhost:8080/"
        },
        "id": "5SiB_foj9Phs",
        "outputId": "9119b6a0-3b97-42f4-ea10-bb0afc1bfc16"
      },
      "execution_count": 60,
      "outputs": [
        {
          "output_type": "stream",
          "name": "stdout",
          "text": [
            "[10, 18, 20, 30, 1, 2, 3, 4]\n",
            "age de  MOATAZ est: 23\n",
            "10\n",
            "9\n",
            "6\n",
            "hana\n",
            "HANAAAAANE\n",
            "hanaaaaane\n",
            "['h', 'n', '', '', '', '', 'ne']\n",
            "hnne\n"
          ]
        }
      ]
    },
    {
      "cell_type": "markdown",
      "source": [
        "# **Les Quatres Problématiques**"
      ],
      "metadata": {
        "id": "XQ1xbd86KYgv"
      }
    },
    {
      "cell_type": "code",
      "source": [
        "somme=0\n",
        "for i in range(1,101) :\n",
        "  somme += i\n",
        "print(somme)\n",
        "\n",
        "somme1=0\n",
        "for i in range(1,100,2) :\n",
        "  somme1 += i\n",
        "print(somme1)\n",
        "\n"
      ],
      "metadata": {
        "colab": {
          "base_uri": "https://localhost:8080/"
        },
        "id": "gVUvqp8zKX1o",
        "outputId": "2ad6b900-def3-4be0-a86d-a8edbf0ade4f"
      },
      "execution_count": 4,
      "outputs": [
        {
          "output_type": "stream",
          "name": "stdout",
          "text": [
            "5050\n",
            "2500\n"
          ]
        }
      ]
    },
    {
      "cell_type": "code",
      "source": [
        "e=0.1\n",
        "i = 0\n",
        "while e<=324000 :\n",
        "  e *= 2 \n",
        "  i += 1\n",
        "print(i)"
      ],
      "metadata": {
        "colab": {
          "base_uri": "https://localhost:8080/"
        },
        "id": "ll_j1PEVLoKx",
        "outputId": "9f485eb8-4d2f-4982-db56-166895310cd8"
      },
      "execution_count": 8,
      "outputs": [
        {
          "output_type": "stream",
          "name": "stdout",
          "text": [
            "22\n"
          ]
        }
      ]
    },
    {
      "cell_type": "code",
      "source": [
        "from random import *\n",
        "p=0\n",
        "for i in range(1,11) :\n",
        "  a=randint(0,10)\n",
        "  b=randint(0,10)\n",
        "  print(a,b)\n",
        "  x = int(input(\"calculer le produit %d * %d =\"  % (a,b)))\n",
        "\n",
        "  if x == a*b :\n",
        "    print(\"good answer\")\n",
        "    p +=1\n",
        "  else : \n",
        "    print(\"wrong answer\")\n",
        "    p-=1\n",
        "\n",
        "  print(\"vous avez gangé %d points \" % p)\n",
        "print(p)  \n",
        "\n",
        "\n",
        "\n",
        "\n",
        "\n"
      ],
      "metadata": {
        "colab": {
          "base_uri": "https://localhost:8080/"
        },
        "id": "Pni7U5IBLpXY",
        "outputId": "59b60070-4002-4a87-a55a-bab592f1394d"
      },
      "execution_count": 25,
      "outputs": [
        {
          "output_type": "stream",
          "name": "stdout",
          "text": [
            "2 7\n",
            "calculer le produit 2 * 7 =14\n",
            "good answer\n",
            "vous avez gangé 1 points \n",
            "7 4\n",
            "calculer le produit 7 * 4 =28\n",
            "good answer\n",
            "vous avez gangé 2 points \n",
            "9 1\n",
            "calculer le produit 9 * 1 =9\n",
            "good answer\n",
            "vous avez gangé 3 points \n",
            "9 10\n",
            "calculer le produit 9 * 10 =90\n",
            "good answer\n",
            "vous avez gangé 4 points \n",
            "9 8\n",
            "calculer le produit 9 * 8 =72\n",
            "good answer\n",
            "vous avez gangé 5 points \n",
            "9 3\n",
            "calculer le produit 9 * 3 =27\n",
            "good answer\n",
            "vous avez gangé 6 points \n",
            "1 3\n",
            "calculer le produit 1 * 3 =3\n",
            "good answer\n",
            "vous avez gangé 7 points \n",
            "3 0\n",
            "calculer le produit 3 * 0 =0\n",
            "good answer\n",
            "vous avez gangé 8 points \n",
            "6 8\n",
            "calculer le produit 6 * 8 =48\n",
            "good answer\n",
            "vous avez gangé 9 points \n",
            "8 2\n",
            "calculer le produit 8 * 2 =16\n",
            "good answer\n",
            "vous avez gangé 10 points \n",
            "10\n"
          ]
        }
      ]
    },
    {
      "cell_type": "code",
      "source": [
        "from random import *\n",
        "p=0\n",
        "a = randint(0,100)\n",
        "while x!=a :\n",
        "  p+=1 \n",
        "  x = int(input(\"Deviner le nombre aléatoire que j'ai proposé : \"))\n",
        "  \n",
        "  if x>a : \n",
        "    print(\"le nombre que vous avez choisi est plus grand. \")\n",
        "  elif x<a : \n",
        "    print(\"le nombre que vous avez choisi est plus petit. \")\n",
        "  else : \n",
        "    print(\"vous avez choisi le nombre exacte!! \")\n",
        "\n",
        "print(\"le nombre d'itérations que vous avez fait est : %d \" %p)\n",
        "   \n",
        "\n",
        "  "
      ],
      "metadata": {
        "colab": {
          "base_uri": "https://localhost:8080/"
        },
        "id": "GNFEIbcHVI4q",
        "outputId": "7493262f-7bb4-441f-a3ea-c0f460bfde2d"
      },
      "execution_count": 34,
      "outputs": [
        {
          "output_type": "stream",
          "name": "stdout",
          "text": [
            "Deviner le nombre aléatoire que j'ai proposé : 50\n",
            "le nombre que vous avez choisi est plus grand. \n",
            "Deviner le nombre aléatoire que j'ai proposé : 40\n",
            "le nombre que vous avez choisi est plus grand. \n",
            "Deviner le nombre aléatoire que j'ai proposé : 30\n",
            "le nombre que vous avez choisi est plus grand. \n",
            "Deviner le nombre aléatoire que j'ai proposé : 20\n",
            "le nombre que vous avez choisi est plus grand. \n",
            "Deviner le nombre aléatoire que j'ai proposé : 10\n",
            "vous avez choisi le nombre exacte!! \n",
            "le nombre d'itérations que vous avez fait est : 5 \n"
          ]
        }
      ]
    }
  ],
  "metadata": {
    "colab": {
      "name": "Bienvenue dans Colaboratory",
      "provenance": []
    },
    "kernelspec": {
      "display_name": "Python 3",
      "name": "python3"
    }
  },
  "nbformat": 4,
  "nbformat_minor": 0
}